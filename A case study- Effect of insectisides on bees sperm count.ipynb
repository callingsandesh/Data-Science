{
 "cells": [
  {
   "cell_type": "code",
   "execution_count": 1,
   "id": "incident-building",
   "metadata": {},
   "outputs": [],
   "source": [
    "import numpy as np\n",
    "import pandas as pd\n",
    "import matplotlib.pyplot as plt\n",
    "import seaborn as sns\n",
    "sns.set()"
   ]
  },
  {
   "cell_type": "markdown",
   "id": "alpha-equilibrium",
   "metadata": {},
   "source": [
    "## Do neonicotinoid insecticides have unintended consequences?\n",
    "We will investigate the effects of neonicotinoid insecticides on bee reproduction. These insecticides are very widely used in the United States to combat aphids and other pests that damage plants.\n",
    "\n",
    "In a recent study, Straub, et al. (Proc. Roy. Soc. B, 2016) investigated the effects of neonicotinoids on the sperm of pollinating bees. In this and the next exercise, you will study how the pesticide treatment affected the count of live sperm per half milliliter of semen.\n",
    "\n",
    "First, we will do EDA, as usual. Plot ECDFs of the alive sperm count for untreated bees (stored in the Numpy array <font color='red'>control</font>) and bees treated with pesticide (stored in the Numpy array <font color='red'>treated</font>)."
   ]
  },
  {
   "cell_type": "code",
   "execution_count": 2,
   "id": "prerequisite-groove",
   "metadata": {},
   "outputs": [],
   "source": [
    "control=[4.159234, 4.408002, 0.172812, 3.498278, 3.104912, 5.164174, 6.6152619999999995, 4.633066, 0.170408, 2.65, 0.0875, 1.997148, 6.92668, 4.5749319999999996, 3.896466, 5.209814, 3.70625, 0.0, 4.62545, 3.01444, 0.7326520000000001, 0.4, 6.518382, 5.225, 6.218742, 6.840358, 1.211308, 0.368252, 3.5993699999999995, 4.2121580000000005, 6.052364, 2.115532, 6.6041300000000005, 5.26074, 6.05695, 6.481172, 3.171522, 3.057228, 0.218808, 5.215112, 4.465168, 2.2890900000000003, 3.7325720000000002, 2.17087, 1.834326, 6.074862, 5.841978, 8.524892, 4.698492, 2.965624, 2.324206, 3.409412, 4.830726, 0.1, 0.0, 4.101432, 3.478162, 1.009688, 4.999296, 4.32196, 0.299592, 3.606032, 7.540260000000001, 4.284024, 0.057494, 6.036668, 2.924084, 4.150144, 1.256926, 4.6665019999999995, 4.8065940000000005, 2.52478, 2.027654, 2.52283, 4.735598, 2.033236, 0.0, 6.177294, 2.601834, 3.5444080000000002, 3.6045, 5.520346, 4.80698, 3.002478, 3.5598160000000005, 7.075844, 10.0, 0.139772, 6.17171, 3.201232, 8.459546000000001, 0.17857, 7.088276, 5.496662000000001, 5.415086, 1.932282, 3.02838, 7.47996, 1.8625900000000002, 7.8384979999999995, 2.242718, 3.292958, 6.363644, 4.386898, 8.47533, 4.156304, 1.463956, 4.533628, 5.5739220000000005, 1.29454, 7.547503999999999, 3.92466, 5.820258, 4.1185220000000005, 4.125, 2.286698, 0.591882, 1.273124, 0.0, 0.0, 0.0, 12.225019999999999, 7.601603999999999, 5.56798, 1.679914, 8.77096, 5.823942, 0.258374, 0.0, 5.899236, 5.486354, 2.0531479999999998, 3.25541, 2.7256400000000003, 3.3640660000000002, 2.43427, 5.282548, 3.9636660000000004, 0.24850999999999998, 0.347916, 4.046862, 5.461436, 4.066104, 0.0, 0.065]\n",
    "treated=[1.342686, 1.058476, 3.7937839999999996, 0.40428000000000003, 4.528388, 2.142966, 3.9377419999999996, 0.1375, 6.919164, 0.0, 3.5978120000000002, 5.196537999999999, 2.78955, 2.3229, 1.0906360000000002, 5.3239160000000005, 1.0216180000000001, 0.9318360000000001, 2.78, 0.41220200000000007, 1.180934, 2.8674, 0.0, 0.064354, 3.008348, 0.876634, 0.0, 4.971712, 7.280658, 4.79732, 2.084956, 3.251514, 1.9405, 1.566192, 0.58894, 5.219658, 0.9779760000000001, 3.124584, 1.297564, 1.4333280000000002, 4.24337, 0.880964, 2.376566, 3.7636580000000004, 1.9184259999999997, 3.74, 3.8417260000000004, 4.6996400000000005, 4.386876, 0.0, 1.127432, 1.845452, 0.690314, 4.185601999999999, 2.284732, 7.2375940000000005, 2.185148, 2.799124, 3.4321800000000002, 0.63354, 1.142496, 0.586, 2.3728580000000004, 1.8003200000000001, 3.329306, 4.028804, 3.474156, 7.508752, 2.032824, 1.3365559999999999, 1.906496, 1.396046, 2.488104, 4.759114, 1.07853, 3.1992700000000003, 3.8142519999999998, 4.275962, 2.817056, 0.552198, 3.2719400000000003, 5.11525, 2.064628, 0.0, 3.34101, 6.177322, 0.0, 3.66415, 2.352582, 1.531696]\n",
    "control=np.array(control)\n",
    "treated=np.array(treated)"
   ]
  },
  {
   "cell_type": "markdown",
   "id": "ready-lewis",
   "metadata": {},
   "source": [
    "## ECDF"
   ]
  },
  {
   "cell_type": "code",
   "execution_count": 3,
   "id": "assured-astronomy",
   "metadata": {},
   "outputs": [],
   "source": [
    "def ecdf(data):\n",
    "    \"\"\"Compute ECDF for a one-dimensional array of measurements.\"\"\"\n",
    "    # Number of data points: n\n",
    "    n = len(data)\n",
    "    \n",
    "    # x-data for the ECDF: x\n",
    "    x = np.sort(data)\n",
    "\n",
    "    # y-data for the ECDF: y\n",
    "    y = np.arange(1, n+1) / n\n",
    "\n",
    "    return x, y"
   ]
  },
  {
   "cell_type": "markdown",
   "id": "subjective-klein",
   "metadata": {},
   "source": [
    "### Plotting the ECDF"
   ]
  },
  {
   "cell_type": "code",
   "execution_count": 4,
   "id": "deadly-place",
   "metadata": {},
   "outputs": [
    {
     "data": {
      "image/png": "[encoded data removed]",
      "text/plain": [
       "<Figure size 432x288 with 1 Axes>"
      ]
     },
     "metadata": {},
     "output_type": "display_data"
    }
   ],
   "source": [
    "# Compute x,y values for ECDFs\n",
    "x_control, y_control = ecdf(control)\n",
    "x_treated, y_treated = ecdf(treated)\n",
    "\n",
    "# Plot the ECDFs\n",
    "plt.plot(x_control, y_control, marker='.', linestyle='none')\n",
    "plt.plot(x_treated, y_treated, marker='.', linestyle='none')\n",
    "\n",
    "# Set the margins\n",
    "plt.margins(0.02)\n",
    "\n",
    "# Add a legend\n",
    "plt.legend(('control', 'treated'), loc='lower right')\n",
    "\n",
    "# Label axes and show plot\n",
    "plt.xlabel('millions of alive sperm per mL')\n",
    "plt.ylabel('ECDF')\n",
    "plt.show()\n"
   ]
  },
  {
   "cell_type": "markdown",
   "id": "abandoned-gossip",
   "metadata": {},
   "source": [
    "The ECDFs show a pretty clear difference between the treatment and control; treated bees have fewer alive sperm. Let's now do a hypothesis test in the next exercise."
   ]
  },
  {
   "cell_type": "markdown",
   "id": "ethical-press",
   "metadata": {},
   "source": [
    "# Bootstrap hypothesis test on bee sperm counts\n",
    "Now, we will test the following hypothesis: On average, male bees treated with neonicotinoid insecticide have the same number of active sperm per milliliter of semen than do untreated male bees. You will use the difference of means as our test statistic.\n",
    "\n"
   ]
  },
  {
   "cell_type": "markdown",
   "id": "cathedral-catering",
   "metadata": {},
   "source": [
    "### Function to calculate the different bootstrap sample from the given data and return it's mean."
   ]
  },
  {
   "cell_type": "code",
   "execution_count": 5,
   "id": "round-gravity",
   "metadata": {},
   "outputs": [],
   "source": [
    "def bootstrap_replicate_1d(data, func):\n",
    "    \"\"\"Generate bootstrap replicate of 1D data.\"\"\"\n",
    "    bs_sample = np.random.choice(data, len(data))\n",
    "    return func(bs_sample)\n",
    "\n",
    "def draw_bs_reps(data, func, size=1):\n",
    "    \"\"\"Draw bootstrap replicates.\"\"\"\n",
    "\n",
    "    # Initialize array of replicates: bs_replicates\n",
    "    bs_replicates = np.empty(size)\n",
    "\n",
    "    # Generate replicates\n",
    "    for i in range(size):\n",
    "        bs_replicates[i] = bootstrap_replicate_1d(data, func)\n",
    "\n",
    "    return bs_replicates"
   ]
  },
  {
   "cell_type": "code",
   "execution_count": null,
   "id": "joint-cornell",
   "metadata": {},
   "outputs": [],
   "source": []
  },
  {
   "cell_type": "code",
   "execution_count": 6,
   "id": "derived-canal",
   "metadata": {},
   "outputs": [
    {
     "name": "stdout",
     "output_type": "stream",
     "text": [
      "p-value = 0.0\n"
     ]
    }
   ],
   "source": [
    "# Compute the difference in mean sperm count: diff_means\n",
    "diff_means = np.mean(control)-np.mean(treated)\n",
    "\n",
    "# Compute mean of pooled data: mean_count\n",
    "\n",
    "mean_count=np.mean(np.concatenate((control,treated)))\n",
    "# Generate shifted data sets\n",
    "control_shifted = control - np.mean(control) + mean_count\n",
    "treated_shifted = treated - np.mean(treated) + mean_count\n",
    "\n",
    "# Generate bootstrap replicates\n",
    "bs_reps_control = draw_bs_reps(control_shifted,\n",
    "                       np.mean, size=10000)\n",
    "bs_reps_treated = draw_bs_reps(treated_shifted,\n",
    "                       np.mean, size=10000)\n",
    "\n",
    "# Get replicates of difference of means: bs_replicates\n",
    "bs_replicates = bs_reps_control-bs_reps_treated\n",
    "\n",
    "# Compute and print p-value: p\n",
    "p = np.sum(bs_replicates >= diff_means) / len(bs_replicates)\n",
    "print('p-value =', p)\n"
   ]
  },
  {
   "cell_type": "markdown",
   "id": "elementary-lebanon",
   "metadata": {},
   "source": [
    "The p-value is small, most likely less than 0.0001, since you never saw a bootstrap replicated with a difference of means at least as extreme as what was observed. In fact, when I did the calculation with 10 million replicates, I got a p-value of 2e-05."
   ]
  },
  {
   "cell_type": "markdown",
   "id": "muslim-liberty",
   "metadata": {},
   "source": [
    "so, we can reject our null hypothesis and say that the neonicotinoid insecticide has effected the sperm count of the bees"
   ]
  }
 ],
 "metadata": {
  "kernelspec": {
   "display_name": "Python 3",
   "language": "python",
   "name": "python3"
  },
  "language_info": {
   "codemirror_mode": {
    "name": "ipython",
    "version": 3
   },
   "file_extension": ".py",
   "mimetype": "text/x-python",
   "name": "python",
   "nbconvert_exporter": "python",
   "pygments_lexer": "ipython3",
   "version": "3.9.1"
  }
 },
 "nbformat": 4,
 "nbformat_minor": 5
}
