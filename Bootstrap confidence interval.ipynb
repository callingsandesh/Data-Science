{
 "cells": [
  {
   "cell_type": "code",
   "execution_count": 1,
   "id": "revolutionary-detroit",
   "metadata": {},
   "outputs": [],
   "source": [
    "import numpy as np\n",
    "import pandas as pd\n",
    "import matplotlib.pyplot as plt\n",
    "import seaborn as sns\n",
    "sns.set()"
   ]
  },
  {
   "cell_type": "code",
   "execution_count": 2,
   "id": "entire-acting",
   "metadata": {},
   "outputs": [],
   "source": [
    "data=pd.read_csv(\"datasets/michelson_speed_of_light_sample.csv\",index_col=0)"
   ]
  },
  {
   "cell_type": "code",
   "execution_count": 3,
   "id": "nominated-woman",
   "metadata": {},
   "outputs": [
    {
     "data": {
      "text/html": [
       "<div>\n",
       "<style scoped>\n",
       "    .dataframe tbody tr th:only-of-type {\n",
       "        vertical-align: middle;\n",
       "    }\n",
       "\n",
       "    .dataframe tbody tr th {\n",
       "        vertical-align: top;\n",
       "    }\n",
       "\n",
       "    .dataframe thead th {\n",
       "        text-align: right;\n",
       "    }\n",
       "</style>\n",
       "<table border=\"1\" class=\"dataframe\">\n",
       "  <thead>\n",
       "    <tr style=\"text-align: right;\">\n",
       "      <th></th>\n",
       "      <th>Expt</th>\n",
       "      <th>Run</th>\n",
       "      <th>Speed</th>\n",
       "    </tr>\n",
       "  </thead>\n",
       "  <tbody>\n",
       "    <tr>\n",
       "      <th>1</th>\n",
       "      <td>1</td>\n",
       "      <td>1</td>\n",
       "      <td>850</td>\n",
       "    </tr>\n",
       "    <tr>\n",
       "      <th>2</th>\n",
       "      <td>1</td>\n",
       "      <td>2</td>\n",
       "      <td>740</td>\n",
       "    </tr>\n",
       "    <tr>\n",
       "      <th>3</th>\n",
       "      <td>1</td>\n",
       "      <td>3</td>\n",
       "      <td>900</td>\n",
       "    </tr>\n",
       "    <tr>\n",
       "      <th>4</th>\n",
       "      <td>1</td>\n",
       "      <td>4</td>\n",
       "      <td>1070</td>\n",
       "    </tr>\n",
       "    <tr>\n",
       "      <th>5</th>\n",
       "      <td>1</td>\n",
       "      <td>5</td>\n",
       "      <td>930</td>\n",
       "    </tr>\n",
       "  </tbody>\n",
       "</table>\n",
       "</div>"
      ],
      "text/plain": [
       "   Expt  Run  Speed\n",
       "1     1    1    850\n",
       "2     1    2    740\n",
       "3     1    3    900\n",
       "4     1    4   1070\n",
       "5     1    5    930"
      ]
     },
     "execution_count": 3,
     "metadata": {},
     "output_type": "execute_result"
    }
   ],
   "source": [
    "data.head()"
   ]
  },
  {
   "cell_type": "code",
   "execution_count": 4,
   "id": "optical-rainbow",
   "metadata": {},
   "outputs": [],
   "source": [
    "speed=data['Speed']"
   ]
  },
  {
   "cell_type": "markdown",
   "id": "trained-enemy",
   "metadata": {},
   "source": [
    "### function to calculate ECDF"
   ]
  },
  {
   "cell_type": "code",
   "execution_count": 5,
   "id": "convinced-education",
   "metadata": {},
   "outputs": [],
   "source": [
    "def ecdf(data):\n",
    "    \"\"\"Compute ECDF for a one-dimensional array of measurements.\"\"\"\n",
    "    # Number of data points: n\n",
    "    n = len(data)\n",
    "    \n",
    "    # x-data for the ECDF: x\n",
    "    x = np.sort(data)\n",
    "\n",
    "    # y-data for the ECDF: y\n",
    "    y = np.arange(1, n+1) / n\n",
    "\n",
    "    return x, y"
   ]
  },
  {
   "cell_type": "markdown",
   "id": "lasting-estate",
   "metadata": {},
   "source": [
    "### Now we will do bootstrap sampling from the given data of speed and see how the ECDF and CDF differe and also make a probabilistic decision of out data."
   ]
  },
  {
   "cell_type": "code",
   "execution_count": 6,
   "id": "sustained-wholesale",
   "metadata": {},
   "outputs": [
    {
     "data": {
      "image/png": "[encoded data removed]",
      "text/plain": [
       "<Figure size 432x288 with 1 Axes>"
      ]
     },
     "metadata": {},
     "output_type": "display_data"
    }
   ],
   "source": [
    "for i in range(50):\n",
    "    # Generate bootstrap sample: bs_sample\n",
    "    bs_sample = np.random.choice(speed, size=len(speed))\n",
    "\n",
    "    # Compute and plot ECDF from bootstrap sample\n",
    "    x, y = ecdf(bs_sample)\n",
    "    _ = plt.plot(x, y, marker='.', linestyle='none',\n",
    "                 color='gray', alpha=0.1)\n",
    "\n",
    "# Compute and plot ECDF from original data\n",
    "x, y = ecdf(speed)\n",
    "_ = plt.plot(x, y, marker='.')\n",
    "\n",
    "# Make margins and label axes\n",
    "plt.margins(0.02)\n",
    "_ = plt.xlabel('speed')\n",
    "_ = plt.ylabel('ECDF')\n",
    "\n",
    "# Show the plot\n",
    "plt.show()"
   ]
  },
  {
   "cell_type": "markdown",
   "id": "graduate-circle",
   "metadata": {},
   "source": [
    "### Calculating the mean of the bootstrap replica sample and SEM and comparing it with the original data set SEM and plotting the histogram of the mean of bootstrap sample.."
   ]
  },
  {
   "cell_type": "code",
   "execution_count": 7,
   "id": "democratic-choice",
   "metadata": {},
   "outputs": [
    {
     "name": "stdout",
     "output_type": "stream",
     "text": [
      "7.861450247886836\n",
      "7.82395838290951\n"
     ]
    },
    {
     "data": {
      "image/png": "[encoded data removed]",
      "text/plain": [
       "<Figure size 432x288 with 1 Axes>"
      ]
     },
     "metadata": {},
     "output_type": "display_data"
    }
   ],
   "source": [
    "def bootstrap_replicate_1d(data, func):\n",
    "    \"\"\"Generate bootstrap replicate of 1D data.\"\"\"\n",
    "    bs_sample = np.random.choice(data, len(data))\n",
    "    return func(bs_sample)\n",
    "\n",
    "def draw_bs_reps(data, func, size=1):\n",
    "    \"\"\"Draw bootstrap replicates.\"\"\"\n",
    "\n",
    "    # Initialize array of replicates: bs_replicates\n",
    "    bs_replicates = np.empty(size)\n",
    "\n",
    "    # Generate replicates\n",
    "    for i in range(size):\n",
    "        bs_replicates[i] = bootstrap_replicate_1d(data, func)\n",
    "\n",
    "    return bs_replicates\n",
    "\n",
    "\n",
    "\n",
    "# Take 10,000 bootstrap replicates of the mean: bs_replicates\n",
    "bs_replicates = draw_bs_reps(speed,np.mean,10000)\n",
    "\n",
    "# Computing and printing the STANDARD ERROR OF MEAN(SEM) of orginal data sample\n",
    "sem = np.std(speed) / np.sqrt(len(speed))\n",
    "print(sem)\n",
    "\n",
    "# Computing and printing standard deviation of bootstrap replicates\n",
    "bs_std = np.std(bs_replicates)/np.sqrt(len(bs_replicates)) *100\n",
    "print(bs_std)\n",
    "\n",
    "# Make a histogram of the results\n",
    "_ = plt.hist(bs_replicates, bins=50, density=True)\n",
    "_ = plt.xlabel('mean speed')\n",
    "_ = plt.ylabel('PDF')\n",
    "\n",
    "# Show the plot\n",
    "plt.show()"
   ]
  },
  {
   "cell_type": "markdown",
   "id": "saved-wyoming",
   "metadata": {},
   "source": [
    "Notice that the SEM we got from the known expression and the bootstrap replicates is the same and the distribution of the bootstrap replicates of the mean is Normal."
   ]
  },
  {
   "cell_type": "markdown",
   "id": "fiscal-exhibition",
   "metadata": {},
   "source": [
    "### Confidence intervals of speed data\n",
    "Now we can calculate the confidence level of the speed data by using the , np.percentile()  function.so, calculate the confidence interval of 95% , we take the percentile , 2.5 and 97.5 , of the bs_replicates ."
   ]
  },
  {
   "cell_type": "code",
   "execution_count": 8,
   "id": "confidential-cigarette",
   "metadata": {},
   "outputs": [
    {
     "data": {
      "text/plain": [
       "array([837.2, 867.9])"
      ]
     },
     "execution_count": 8,
     "metadata": {},
     "output_type": "execute_result"
    }
   ],
   "source": [
    "np.percentile(bs_replicates,[2.5,97.5])"
   ]
  },
  {
   "cell_type": "markdown",
   "id": "legitimate-enhancement",
   "metadata": {},
   "source": [
    "### Therefour, the 95% confidence interval of our dataset is [837., 867.9] . "
   ]
  },
  {
   "cell_type": "markdown",
   "id": "static-retirement",
   "metadata": {},
   "source": [
    "### Calculating the variance of the bootstrap sample replicas , and Dividing the variance replicates (bs_replicates) by 100 to put the variance in units of square centimeters for convenience."
   ]
  },
  {
   "cell_type": "code",
   "execution_count": 9,
   "id": "conscious-vacation",
   "metadata": {},
   "outputs": [
    {
     "data": {
      "image/png": "[encoded data removed]",
      "text/plain": [
       "<Figure size 432x288 with 1 Axes>"
      ]
     },
     "metadata": {},
     "output_type": "display_data"
    }
   ],
   "source": [
    "# Generate 10,000 bootstrap replicates of the variance: bs_replicates\n",
    "bs_replicates = draw_bs_reps(speed,np.var,10000)\n",
    "\n",
    "# Put the variance in units of square centimeters\n",
    "var_replicates=bs_replicates/100\n",
    "\n",
    "# Make a histogram of the results\n",
    "_ = plt.hist(var_replicates, density=True, bins=50)\n",
    "_ = plt.xlabel('variance of speed')\n",
    "_ = plt.ylabel('PDF')\n",
    "\n",
    "# Show the plot\n",
    "plt.show()\n"
   ]
  },
  {
   "cell_type": "markdown",
   "id": "waiting-printing",
   "metadata": {},
   "source": [
    "This is not normally distributed, as it has a longer tail to the right. Note that you can also \n",
    "compute a confidence interval on the variance, or any other statistic, using np.percentile() \n",
    "with your bootstrap replicates"
   ]
  }
 ],
 "metadata": {
  "kernelspec": {
   "display_name": "Python 3",
   "language": "python",
   "name": "python3"
  },
  "language_info": {
   "codemirror_mode": {
    "name": "ipython",
    "version": 3
   },
   "file_extension": ".py",
   "mimetype": "text/x-python",
   "name": "python",
   "nbconvert_exporter": "python",
   "pygments_lexer": "ipython3",
   "version": "3.9.1"
  }
 },
 "nbformat": 4,
 "nbformat_minor": 5
}
